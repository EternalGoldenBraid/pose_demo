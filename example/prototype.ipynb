{
 "cells": [
  {
   "cell_type": "code",
   "execution_count": 32,
   "id": "useful-subscription",
   "metadata": {
    "scrolled": true
   },
   "outputs": [],
   "source": [
    "import os\n",
    "#import cv2\n",
    "import sys\n",
    "import json\n",
    "import math\n",
    "import time\n",
    "import torch\n",
    "import warnings\n",
    "import numpy as np\n",
    "from PIL import Image, ImageDraw\n",
    "from pathlib import Path\n",
    "\n",
    "from matplotlib import pyplot as plt\n",
    "#from detectron2 import model_zoo\n",
    "from detectron2.config import get_cfg\n",
    "from detectron2.engine import DefaultPredictor\n",
    "\n",
    "\n",
    "\n",
    "from os.path import join as pjoin\n",
    "from bop_toolkit_lib import inout\n",
    "warnings.filterwarnings(\"ignore\")\n",
    "\n",
    "base_path = os.path.dirname(os.path.abspath(\".\"))\n",
    "sys.path.append(base_path)\n",
    "\n",
    "from lib import rendering, network\n",
    "\n",
    "from dataset import LineMOD_Dataset, prototype_Dataset\n",
    "from evaluation import utils\n",
    "from evaluation import config as cfg\n",
    "\n",
    "gpu_id = 0\n",
    "# gpu_id = 1\n",
    "\n",
    "#os.environ[\"CUDA_DEVICE_ORDER\"]=\"PCI_BUS_ID\"\n",
    "#os.environ[\"CUDA_VISIBLE_DEVICES\"] = str(gpu_id)\n",
    "#os.environ['EGL_DEVICE_ID'] = str(gpu_id)\n",
    "DEVICE = torch.device('cuda')\n",
    "\n",
    "\n",
    "datapath = Path(cfg.DATA_PATH)\n",
    "eval_dataset = prototype_Dataset.Dataset(datapath / 'huawei_box')\n",
    "#eval_dataset = LineMOD_Dataset.Dataset(datapath / 'lm')\n",
    "\n",
    "#cfg.RENDER_WIDTH = eval_dataset.cam_width    # the width of rendered images\n",
    "#cfg.RENDER_HEIGHT = eval_dataset.cam_height  # the height of rendered images\n",
    "cfg.RENDER_WIDTH = 640    # the width of rendered images\n",
    "cfg.RENDER_HEIGHT = 480  # the height of rendered images\n",
    "\n",
    "cfg.DATASET_NAME = 'huawei_box'        # dataset name\n",
    "#cfg.DATASET_NAME = 'lm'        # dataset name\n",
    "\n",
    "cfg.HEMI_ONLY = True"
   ]
  },
  {
   "cell_type": "code",
   "execution_count": 33,
   "id": "06b49e9a-ab0f-4a9b-ad01-01a1d10e5dcd",
   "metadata": {},
   "outputs": [
    {
     "name": "stdout",
     "output_type": "stream",
     "text": [
      "/home/nicklas/Projects/pose_demo/OVE6D-pose/example\n",
      "{1: 0.2136586, 2: 0.2475, 3: 0.27}\n",
      "tensor([[382.7990,   0.0000, 316.1090],\n",
      "        [  0.0000, 382.7990, 240.3940],\n",
      "        [  0.0000,   0.0000,   1.0000]])\n"
     ]
    }
   ],
   "source": [
    "print(os.getcwd()); cfg.DATA_PATH; os.listdir()\n",
    "print(eval_dataset.obj_diameter)\n",
    "print(eval_dataset.cam_K)"
   ]
  },
  {
   "cell_type": "markdown",
   "id": "37d46f50",
   "metadata": {},
   "source": [
    "# Load Mask-RCNN model"
   ]
  },
  {
   "cell_type": "code",
   "execution_count": 34,
   "id": "dd464b03-aed8-41b9-be10-a460c34d726a",
   "metadata": {},
   "outputs": [],
   "source": [
    "#Not needed for image test"
   ]
  },
  {
   "cell_type": "code",
   "execution_count": 35,
   "id": "573ed547",
   "metadata": {},
   "outputs": [],
   "source": [
    "################################################# MASK-RCNN Segmentation ##################################################################\n",
    "#rcnnIdx_to_lmIds_dict = {0:1, 1:2, 2:3, 3:4, 4:5, 5:6, 6:7, 7:8, 8:9, 9:10, 10:11, 11:12, 12:13, 13:14, 14:15}\n",
    "#rcnnIdx_to_lmCats_dict ={0:'Ape', 1:'Benchvice', 2:'Bowl', 3:'Camera', 4:'Can', 5:'Cat', 6:'Cup', 7:'Driller', \n",
    "#                        8:'Duck', 9:'Eggbox', 10:'Glue', 11:'Holepunch', 12:'Iron', 13:'Lamp', 14:'Phone'}\n",
    "#rcnn_cfg = get_cfg()\n",
    "#rcnn_cfg.merge_from_file(model_zoo.get_config_file(\"COCO-InstanceSegmentation/mask_rcnn_R_50_FPN_3x.yaml\"))\n",
    "#rcnn_cfg.MODEL.WEIGHTS = os.path.abspath(os.path.join(base_path, 'checkpoints','lm_maskrcnn_model.pth'))\n",
    "#rcnn_cfg.MODEL.ROI_HEADS.NUM_CLASSES = len(rcnnIdx_to_lmCats_dict)\n",
    "#rcnn_cfg.MODEL.ROI_HEADS.SCORE_THRESH_TEST = 0.001 # the predicted category scores\n",
    "#predictor = DefaultPredictor(rcnn_cfg)\n",
    "################################################## MASK-RCNN Segmentation ##################################################################\n",
    "#print('Mask-RCNN has been loaded!')"
   ]
  },
  {
   "cell_type": "markdown",
   "id": "65717a2c",
   "metadata": {},
   "source": [
    "# Load OVE6D model"
   ]
  },
  {
   "cell_type": "code",
   "execution_count": 36,
   "id": "24195e98",
   "metadata": {},
   "outputs": [
    {
     "name": "stdout",
     "output_type": "stream",
     "text": [
      "OVE6D has been loaded!\n"
     ]
    }
   ],
   "source": [
    "\n",
    "ckpt_file = pjoin(base_path, \n",
    "                'checkpoints', \n",
    "                \"OVE6D_pose_model.pth\"\n",
    "                )\n",
    "model_net = network.OVE6D().to(DEVICE)\n",
    "\n",
    "model_net.load_state_dict(torch.load(ckpt_file, map_location=DEVICE))\n",
    "model_net.eval()\n",
    "print('OVE6D has been loaded!')"
   ]
  },
  {
   "cell_type": "markdown",
   "id": "54e9571f",
   "metadata": {},
   "source": [
    "#  Load object viewpoint codebooks"
   ]
  },
  {
   "cell_type": "code",
   "execution_count": 37,
   "id": "9788e898-d3ef-44cf-bdcc-56d0e12419cf",
   "metadata": {},
   "outputs": [
    {
     "name": "stdout",
     "output_type": "stream",
     "text": [
      "Dataspace/huawei_box/models_eval\n",
      "<module 'evaluation.config' from '/home/nicklas/Projects/pose_demo/OVE6D-pose/evaluation/config.py'>\n"
     ]
    }
   ],
   "source": [
    "print(eval_dataset.model_dir)\n",
    "print(cfg)"
   ]
  },
  {
   "cell_type": "code",
   "execution_count": 62,
   "id": "4e2da40d",
   "metadata": {},
   "outputs": [
    {
     "name": "stdout",
     "output_type": "stream",
     "text": [
      "Loading  /home/nicklas/Projects/pose_demo/OVE6D-pose/evaluation/object_codebooks/huawei_box/zoom_0.01/views_4000/huawei_box_obj_01_views_4000.npy\n",
      "Loading  /home/nicklas/Projects/pose_demo/OVE6D-pose/evaluation/object_codebooks/huawei_box/zoom_0.01/views_4000/huawei_box_obj_02_views_4000.npy\n",
      "Loading  /home/nicklas/Projects/pose_demo/OVE6D-pose/evaluation/object_codebooks/huawei_box/zoom_0.01/views_4000/huawei_box_obj_03_views_4000.npy\n",
      "Object codebooks have been loaded!\n",
      "dict_keys([1, 2, 3])\n"
     ]
    }
   ],
   "source": [
    "\n",
    "cfg.VIEWBOOK_BATCHSIZE = 200 # reduce this if out of GPU memory, \n",
    "cfg.RENDER_NUM_VIEWS = 4000 # reduce this if out of GPU memory, \n",
    "codebook_saving_dir = pjoin(base_path,'evaluation/object_codebooks',\n",
    "                            cfg.DATASET_NAME, \n",
    "                            'zoom_{}'.format(cfg.ZOOM_DIST_FACTOR), \n",
    "                            'views_{}'.format(str(cfg.RENDER_NUM_VIEWS)))\n",
    "\n",
    "\n",
    "\n",
    "object_codebooks = utils.OVE6D_codebook_generation(codebook_dir=codebook_saving_dir, \n",
    "                                                    model_func=model_net,\n",
    "                                                    dataset=eval_dataset, \n",
    "                                                    config=cfg, \n",
    "                                                    device=DEVICE)\n",
    "print('Object codebooks have been loaded!')\n",
    "print(object_codebooks.keys())"
   ]
  },
  {
   "cell_type": "markdown",
   "id": "fbdcb098",
   "metadata": {
    "tags": []
   },
   "source": [
    "# Object segmentation"
   ]
  },
  {
   "cell_type": "code",
   "execution_count": 76,
   "id": "39410384",
   "metadata": {},
   "outputs": [
    {
     "data": {
      "text/plain": [
       "<matplotlib.image.AxesImage at 0x7f1128e95520>"
      ]
     },
     "execution_count": 76,
     "metadata": {},
     "output_type": "execute_result"
    },
    {
     "data": {
      "image/png": "[encoded data removed]",
      "text/plain": [
       "<Figure size 2160x720 with 3 Axes>"
      ]
     },
     "metadata": {
      "needs_background": "light"
     },
     "output_type": "display_data"
    }
   ],
   "source": [
    "#files = ['1656333461794.60351562500000', '1656333463394.28930664062500',\n",
    "#        '1656333465394.65112304687500', '1656333466832.90551757812500']\n",
    "\n",
    "cfg.VP_NUM_TOPK = 50   # the retrieval number of viewpoint \n",
    "cfg.RANK_NUM_TOPK = 5  # the ranking number of full 3D orientation \n",
    "cfg.USE_ICP = False\n",
    "interpolate = False\n",
    "\n",
    "#test_data_dir = datapath / 'lm' / 'test'          # path to the test dataset of BOP\n",
    "test_data_dir = datapath / 'huawei_box' / 'test'          # path to the test dataset of BOP\n",
    "\n",
    "scene_id = 1   # range [1, 15]\n",
    "view_id = 0  # range [0, 1214]\n",
    "\n",
    "idx = 0\n",
    "scene_dir = pjoin(test_data_dir, '{:06d}'.format(scene_id))\n",
    "\n",
    "files = [f[1:-4].split('_')[1] for f in os.listdir(scene_dir+'/mask')]\n",
    "#color_file = pjoin(scene_dir, 'rgb/_Color_' + files[idx] + '.png')\n",
    "depth_file = pjoin(scene_dir, 'depth/_Depth_' + files[idx] + '.csv')\n",
    "#mask_file = pjoin(scene_dir, 'mask_visib/{:06d}_{:06d}.png'.format(view_id, 0))\n",
    "mask_file = pjoin(scene_dir, 'mask/_mask_' + files[idx] + '.png')\n",
    "\n",
    "tar_obj_id = scene_id # object id equals the scene id for LM dataset\n",
    "\n",
    "############## read the camera information ##############\n",
    "cam_info_file = pjoin(scene_dir, 'scene_camera.json')\n",
    "with open(cam_info_file, 'r') as cam_f:\n",
    "    scene_camera_info = json.load(cam_f)\n",
    "view_cam_info = scene_camera_info[str(view_id)]  # scene camera information\n",
    "#view_cam_info = scene_camera_info[str(scene_id)]  # scene camera information   \n",
    "#view_cam_info = scene_camera_info[str(0)]  # scene camera information        \n",
    "\n",
    "############## read the ground truth pose for calculating errors ##############\n",
    "#gt_pose_file = os.path.join(scene_dir, 'scene_gt.json')\n",
    "#with open(gt_pose_file, 'r') as pose_f:\n",
    "#    pose_anno = json.load(pose_f)\n",
    "#view_pose = pose_anno[str(view_id)][0]\n",
    "#obj_gt_R = cfg.BOP_REF_POSE(torch.tensor(view_pose['cam_R_m2c'], dtype=torch.float32).view(3, 3))\n",
    "#obj_gt_t = torch.tensor(view_pose['cam_t_m2c'], dtype=torch.float32) * cfg.MODEL_SCALING\n",
    "\n",
    "\n",
    "############## read the depth images and convert it from meter to millimeter ##############\n",
    "view_depth = torch.tensor(np.loadtxt(depth_file, delimiter=\",\", dtype=float), dtype=torch.float32) # In meters\n",
    "#view_depth = torch.tensor(np.array(Image.open(depth_fil1656333461794.60351562500000e)), dtype=torch.float32) # HxW\n",
    "view_depth *= view_cam_info['depth_scale']\n",
    "#view_depth *= cfg.MODEL_SCALING # convert to meter scale from millimeter scale\n",
    "view_camK = torch.tensor(view_cam_info['cam_K'], dtype=torch.float32).view(3, 3)[None, ...] # 1x3x3\n",
    "cam_K = view_camK.to(DEVICE)\n",
    "\n",
    "\n",
    "view_depth = view_depth.to(DEVICE)\n",
    "#obj_mask = torch.tensor(np.array(Image.open(mask_file)))\n",
    "obj_mask = torch.tensor(np.array(Image.open(mask_file)), dtype=torch.float32, device=DEVICE)/255\n",
    "obj_mask[obj_mask < 1] = 0\n",
    "\n",
    "\n",
    "if interpolate: \n",
    "    view_depth = view_depth.to('cpu')\n",
    "    closed = torch.tensor(cv2.morphologyEx((view_depth*obj_mask.cpu()).numpy(), cv2.MORPH_CLOSE, np.ones(3), iterations=10), dtype=torch.float32, device='cpu')\n",
    "    view_depth[obj_mask.cpu()==1] = closed[obj_mask==1].cpu()\n",
    "    view_depth = view_depth.to(DEVICE) 0\n",
    "\n",
    "    \n",
    "\n",
    "\n",
    "fig, ax = plt.subplots(1,3, figsize=(30,10))\n",
    "ax = ax.flatten()\n",
    "ax[0].imshow(view_depth.cpu(),cmap='gray')\n",
    "ax[1].imshow(view_depth.cpu()*obj_mask.cpu(), cmap='gray')\n",
    "ax[2].imshow(obj_mask.cpu(), cmap='gray')\n",
    "\n",
    "\n",
    "#ax[1].imshow(obj_mask[0].cpu())\n",
    "\n",
    "############## read rgb image for object segmentation ##############\n",
    "#\n",
    "### TODO:\n",
    "#view_timer = time.time() \n",
    "#rgb_img = cv2.imread(color_file)\n",
    "#imread_cost = time.time() - view_timer\n",
    "#\n",
    "#rcnn_timer = time.time()\n",
    "#output = predictor(rgb_img)\n",
    "#rcnn_pred_ids = output[\"instances\"].pred_classes\n",
    "#rcnn_pred_masks = output[\"instances\"].pred_masks\n",
    "#rcnn_pred_scores = output[\"instances\"].scores\n",
    "#rcnn_cost = time.time() - rcnn_timer\n",
    "###################### object segmentation ######################\n",
    "\n",
    "#tar_rcnn_d = tar_obj_id - 1\n",
    "#obj_masks = rcnn_pred_masks # NxHxW\n",
    "#obj_depths = view_depth[None, ...] * obj_masks\n",
    "#tar_obj_depths = obj_depths[tar_rcnn_d==rcnn_pred_ids]\n",
    "#tar_obj_masks = rcnn_pred_masks[tar_rcnn_d==rcnn_pred_ids]\n",
    "#tar_obj_scores = rcnn_pred_scores[tar_rcnn_d==rcnn_pred_ids]\n",
    "\n",
    "#mask_pixel_count = tar_obj_masks.view(tar_obj_masks.size(0), -1).sum(dim=1)\n",
    "#valid_idx = (mask_pixel_count >= 100)\n",
    "#if valid_idx.sum() == 0:\n",
    "#    mask_visib_ratio = mask_pixel_count / mask_pixel_count.max()\n",
    "#    valid_idx = mask_visib_ratio >= 0.05\n",
    "#\n",
    "#tar_obj_masks = tar_obj_masks[valid_idx] # select the target object instance masks\n",
    "#tar_obj_depths = tar_obj_depths[valid_idx]\n",
    "#tar_obj_scores = tar_obj_scores[valid_idx]"
   ]
  },
  {
   "cell_type": "code",
   "execution_count": 77,
   "id": "0a1dff72-43ee-4782-a3a0-5e4f1912dc04",
   "metadata": {},
   "outputs": [
    {
     "name": "stdout",
     "output_type": "stream",
     "text": [
      "cuda:0 cuda:0\n"
     ]
    }
   ],
   "source": [
    "print(view_depth.device, obj_mask.device)"
   ]
  },
  {
   "cell_type": "code",
   "execution_count": 78,
   "id": "a7553b68-2dfe-4169-b27f-3e332f8e15e1",
   "metadata": {},
   "outputs": [],
   "source": [
    "# print(cam_K, cam_K.shape)\n",
    "# view_depth.min(), view_depth.max()\n",
    "# obj_dep = view_depth.cpu()*obj_mask.cpu()\n",
    "# obj_dep.min(), obj_dep.max()\n",
    "# view_depth.shape, obj_mask.shape, tar_obj_depths.shape"
   ]
  },
  {
   "cell_type": "code",
   "execution_count": null,
   "id": "27b15548-c8eb-4531-aaf2-d47c6c910009",
   "metadata": {},
   "outputs": [],
   "source": []
  },
  {
   "cell_type": "markdown",
   "id": "761bc39f-a8c3-4f2a-9007-0eacc2484951",
   "metadata": {
    "tags": []
   },
   "source": [
    "# Object pose estimation"
   ]
  },
  {
   "cell_type": "code",
   "execution_count": 79,
   "id": "27a2e02e-8031-48fb-bef8-f878931c4009",
   "metadata": {},
   "outputs": [
    {
     "name": "stdout",
     "output_type": "stream",
     "text": [
      "Diameter: 0.22276468019620344 Bounding size: 0.1931760013103485 Bounds: [[-0.096588   -0.037726   -0.05049905]\n",
      " [ 0.096588    0.037726    0.05049905]]\n"
     ]
    }
   ],
   "source": [
    "#print(eval_dataset.obj_model_file)\n",
    "tar_obj_codebook = object_codebooks[scene_id]\n",
    "obj_mesh = tar_obj_codebook['obj_mesh']\n",
    "print(\"Diameter:\", obj_mesh.bounding_diameter, \"Bounding size:\", obj_mesh.bounding_size, \"Bounds:\", obj_mesh.bounds)"
   ]
  },
  {
   "cell_type": "code",
   "execution_count": 80,
   "id": "f5a91303-2971-46ee-a7d6-b5642c08dd46",
   "metadata": {},
   "outputs": [
    {
     "name": "stdout",
     "output_type": "stream",
     "text": [
      "tensor([[ 0.0937, -0.0348,  0.9950],\n",
      "        [-0.6700,  0.7370,  0.0889],\n",
      "        [-0.7364, -0.6750,  0.0458]]) /n tensor([[-0.1023,  0.0797,  0.4242]])\n"
     ]
    }
   ],
   "source": [
    "obj_renderer = rendering.Renderer(width=cfg.RENDER_WIDTH, height=cfg.RENDER_HEIGHT)\n",
    "tar_obj_depth = (view_depth * obj_mask).squeeze()\n",
    "pose_ret = utils.OVE6D_mask_full_pose(model_func=model_net, \n",
    "                                    obj_depth=tar_obj_depth[None,:,:],\n",
    "                                    obj_mask=obj_mask[None,:,:],\n",
    "                                    obj_codebook=tar_obj_codebook,\n",
    "                                    cam_K=cam_K,\n",
    "                                    config=cfg,\n",
    "                                    obj_renderer=obj_renderer,\n",
    "                                    device=DEVICE)\n",
    "\n",
    "#pose_ret, rcnn_idx = utils.OVE6D_rcnn_full_pose(model_func=model_net, \n",
    "#                                    obj_depths=tar_obj_depths,\n",
    "#                                    obj_masks=tar_obj_masks,\n",
    "#                                    obj_rcnn_scores=tar_obj_scores,\n",
    "#                                    obj_codebook=tar_obj_codebook, \n",
    "#                                    cam_K=cam_K,\n",
    "#                                    config=cfg, \n",
    "#                                    device=DEVICE,\n",
    "#                                    obj_renderer=obj_renderer, \n",
    "#                                    return_rcnn_idx=True\n",
    "#                                    )\n",
    "del obj_renderer\n",
    "\n",
    "raw_pose_R = pose_ret['raw_R'] # without ICP\n",
    "raw_pose_t = pose_ret['raw_t'] # without ICP\n",
    "if cfg.USE_ICP:\n",
    "    \n",
    "    icp1_pose_R = pose_ret['icp1_R'] # with ICP after pose selection\n",
    "    icp1_pose_t = pose_ret['icp1_t'] # with ICP after pose selection\n",
    "    \n",
    "    icpk_pose_R = pose_ret['icpk_R'] # with ICP before pose selection\n",
    "    icpk_pose_t = pose_ret['icpk_t'] # with ICP before pose selection\n",
    "\n",
    "#plt.imshow(tar_obj_masks.sum(dim=0).cpu())\n",
    "#plt.axis(False)\n",
    "\n",
    "#obj_name = rcnnIdx_to_lmCats_dict[tar_rcnn_d]\n",
    "\n",
    "#print('object: {}, the {}-th ({:.3f}) RCNN prediction is selected for estimating 6D pose. '.format(\n",
    "#    obj_name, rcnn_idx, tar_obj_scores[rcnn_idx]))\n",
    "#print('RCNN confs: {}'.format(tar_obj_scores.cpu().numpy()))\n",
    "print(raw_pose_R, '/n',raw_pose_t)"
   ]
  },
  {
   "cell_type": "code",
   "execution_count": 81,
   "id": "e1ae713d-7275-4f89-8580-b04da0646512",
   "metadata": {},
   "outputs": [
    {
     "name": "stdout",
     "output_type": "stream",
     "text": [
      "torch.Size([480, 640])\n",
      "tensor(0.7280, device='cuda:0') torch.return_types.mode(\n",
      "values=tensor(0., device='cuda:0'),\n",
      "indices=tensor(4430024428113362944, device='cuda:0'))\n"
     ]
    },
    {
     "data": {
      "text/plain": [
       "<matplotlib.image.AxesImage at 0x7f1128816fd0>"
      ]
     },
     "execution_count": 81,
     "metadata": {},
     "output_type": "execute_result"
    },
    {
     "data": {
      "image/png": "[encoded data removed]",
      "text/plain": [
       "<Figure size 432x288 with 1 Axes>"
      ]
     },
     "metadata": {
      "needs_background": "light"
     },
     "output_type": "display_data"
    }
   ],
   "source": [
    "print(tar_obj_depth.shape)\n",
    "print(tar_obj_depth.max(), tar_obj_depth.flatten().mode())\n",
    "plt.imshow(tar_obj_depth.cpu().numpy())"
   ]
  },
  {
   "cell_type": "code",
   "execution_count": 82,
   "id": "44045069-5329-47fc-ace7-738a13c60c4a",
   "metadata": {},
   "outputs": [
    {
     "data": {
      "image/png": "[encoded data removed]",
      "text/plain": [
       "<Figure size 432x288 with 1 Axes>"
      ]
     },
     "metadata": {
      "needs_background": "light"
     },
     "output_type": "display_data"
    }
   ],
   "source": [
    "plt.hist(tar_obj_depth.cpu().numpy())\n",
    "plt.show()"
   ]
  },
  {
   "cell_type": "code",
   "execution_count": 83,
   "id": "b9ea3901-fddd-4c09-9974-75dcacd28d0c",
   "metadata": {},
   "outputs": [
    {
     "data": {
      "text/plain": [
       "(0.2136586, tensor(0.7280, device='cuda:0'), tensor(0., device='cuda:0'))"
      ]
     },
     "execution_count": 83,
     "metadata": {},
     "output_type": "execute_result"
    }
   ],
   "source": [
    "tar_obj_codebook['diameter'], view_depth[obj_mask.bool()].max(), view_depth[obj_mask.bool()].min()"
   ]
  },
  {
   "cell_type": "markdown",
   "id": "b779dcfc",
   "metadata": {
    "tags": []
   },
   "source": [
    "# Visualize the predicted pose"
   ]
  },
  {
   "cell_type": "code",
   "execution_count": 84,
   "id": "fa116395-e02b-4ced-b88d-25d4242f4ac1",
   "metadata": {
    "tags": []
   },
   "outputs": [],
   "source": [
    "from lib import geometry, rendering, three, preprocess\n",
    "from evaluation import pplane_ICP\n",
    "from lib import preprocess\n",
    "\n",
    "obj_mesh = tar_obj_codebook['obj_mesh']\n",
    "obj_renderer = rendering.Renderer(width=cfg.RENDER_WIDTH, height=cfg.RENDER_HEIGHT)\n",
    "obj_context = rendering.SceneContext(obj=obj_mesh, intrinsic=cam_K.cpu()) # define a scene\n",
    "\n",
    "\n",
    "obj_context.set_pose(rotation=raw_pose_R, translation=raw_pose_t)\n",
    "\n",
    "est_depth, est_mask = obj_renderer.render(obj_context)[1:]\n",
    "\n",
    "\n",
    "init_t = torch.zeros_like(raw_pose_t)\n",
    "init_t[:, -1] = 1.0\n",
    "init_R = torch.eye(3)\n",
    "\n",
    "obj_context.set_pose(rotation=init_R, translation=raw_pose_t)\n",
    "init_depth, _ = obj_renderer.render(obj_context)[1:]\n",
    "\n",
    "del obj_renderer\n",
    "\n"
   ]
  },
  {
   "cell_type": "code",
   "execution_count": 85,
   "id": "a54466fe-fde8-4813-bddc-7a9d9ed9a034",
   "metadata": {},
   "outputs": [
    {
     "name": "stdout",
     "output_type": "stream",
     "text": [
      "torch.Size([3, 3]) torch.Size([1, 3])\n"
     ]
    }
   ],
   "source": [
    "print(raw_pose_R.shape, raw_pose_t.shape)"
   ]
  },
  {
   "cell_type": "code",
   "execution_count": 86,
   "id": "3719b133-cf0e-4bc1-9123-87e12db4c2e4",
   "metadata": {},
   "outputs": [
    {
     "name": "stdout",
     "output_type": "stream",
     "text": [
      "torch.Size([480, 640]) torch.Size([480, 640])\n",
      "tensor(0.3610, device='cuda:0')\n"
     ]
    }
   ],
   "source": [
    "print(view_depth.shape, est_depth.shape)\n",
    "print(view_depth[obj_mask.bool()].median())"
   ]
  },
  {
   "cell_type": "code",
   "execution_count": 87,
   "id": "34b66368-9c59-4b99-8029-dda616ebe808",
   "metadata": {},
   "outputs": [
    {
     "name": "stdout",
     "output_type": "stream",
     "text": [
      "torch.Size([480, 640])\n",
      "Bounds: [[-0.096588   -0.037726   -0.05049905]\n",
      " [ 0.096588    0.037726    0.05049905]]\n",
      "Median: tensor(0.3637)\n",
      "Error: tensor(0.0069)\n"
     ]
    },
    {
     "data": {
      "image/png": "[encoded data removed]",
      "text/plain": [
       "<Figure size 1440x720 with 6 Axes>"
      ]
     },
     "metadata": {
      "needs_background": "light"
     },
     "output_type": "display_data"
    }
   ],
   "source": [
    "print(est_depth.shape)\n",
    "fig, ax = plt.subplots(3,2, figsize=(20,10))\n",
    "ax = ax.flatten()\n",
    "\n",
    "view_depth = view_depth.cpu()\n",
    "obj_mask = obj_mask.cpu()\n",
    "\n",
    "ax[0].imshow(view_depth, cmap='gray'); ax[0].set_title('Depth map')\n",
    "ax[1].imshow(view_depth*obj_mask, cmap='gray'); ax[1].set_title('cropped')\n",
    "ax[2].imshow(est_depth, cmap='gray') ; ax[2].set_title('Estimated depth')\n",
    "ax[3].imshow(est_depth*est_mask, cmap='gray'); ax[3].set_title('Estimated depth cropped')\n",
    "ax[4].imshow(view_depth*est_mask, cmap='gray'); ax[4].set_title('Depth map cropped with estimated mask')\n",
    "ax[5].imshow(est_depth - tar_obj_depth.cpu(), cmap='gray'); ax[5].set_title('Estimated depth minus target object depth');\n",
    "\n",
    "print(\"Bounds:\", obj_mesh.bounds)\n",
    "print(\"Median:\", est_depth[est_mask.bool()].median())\n",
    "\n",
    "### How to measure error?\n",
    "print(\"Error:\", np.abs(est_depth-obj_mask*view_depth).sum()/view_depth.numel())\n",
    "\n"
   ]
  },
  {
   "cell_type": "code",
   "execution_count": null,
   "id": "8d080764-1a61-4111-81e3-b9324362fe28",
   "metadata": {},
   "outputs": [],
   "source": []
  },
  {
   "cell_type": "code",
   "execution_count": 17,
   "id": "dd235b40-3063-4c96-9bbf-9159428aa2f1",
   "metadata": {},
   "outputs": [
    {
     "name": "stdout",
     "output_type": "stream",
     "text": [
      "tensor(0.3850) tensor(0.3958)\n"
     ]
    }
   ],
   "source": [
    "print((view_depth[obj_mask.bool()]).median(), (est_depth[obj_mask.bool()]).median())"
   ]
  },
  {
   "cell_type": "code",
   "execution_count": 18,
   "id": "e9ce0bb1",
   "metadata": {},
   "outputs": [
    {
     "ename": "NameError",
     "evalue": "name 'icp1_pose_t' is not defined",
     "output_type": "error",
     "traceback": [
      "\u001b[0;31m---------------------------------------------------------------------------\u001b[0m",
      "\u001b[0;31mNameError\u001b[0m                                 Traceback (most recent call last)",
      "Input \u001b[0;32mIn [18]\u001b[0m, in \u001b[0;36m<cell line: 11>\u001b[0;34m()\u001b[0m\n\u001b[1;32m      7\u001b[0m PD_raw_pose[:\u001b[38;5;241m3\u001b[39m, :\u001b[38;5;241m3\u001b[39m] \u001b[38;5;241m=\u001b[39m cfg\u001b[38;5;241m.\u001b[39mPOSE_TO_BOP(raw_pose_R)\n\u001b[1;32m     10\u001b[0m PD_icp1_pose \u001b[38;5;241m=\u001b[39m torch\u001b[38;5;241m.\u001b[39meye(\u001b[38;5;241m4\u001b[39m, dtype\u001b[38;5;241m=\u001b[39mtorch\u001b[38;5;241m.\u001b[39mfloat32)\n\u001b[0;32m---> 11\u001b[0m PD_icp1_pose[:\u001b[38;5;241m3\u001b[39m, \u001b[38;5;241m3\u001b[39m] \u001b[38;5;241m=\u001b[39m \u001b[43micp1_pose_t\u001b[49m\n\u001b[1;32m     12\u001b[0m PD_icp1_pose[:\u001b[38;5;241m3\u001b[39m, :\u001b[38;5;241m3\u001b[39m] \u001b[38;5;241m=\u001b[39m cfg\u001b[38;5;241m.\u001b[39mPOSE_TO_BOP(icp1_pose_R)\n\u001b[1;32m     15\u001b[0m PD_icpk_pose \u001b[38;5;241m=\u001b[39m torch\u001b[38;5;241m.\u001b[39meye(\u001b[38;5;241m4\u001b[39m, dtype\u001b[38;5;241m=\u001b[39mtorch\u001b[38;5;241m.\u001b[39mfloat32)\n",
      "\u001b[0;31mNameError\u001b[0m: name 'icp1_pose_t' is not defined"
     ]
    }
   ],
   "source": [
    "import misc \n",
    "\n",
    "obj_mesh = tar_obj_codebook['obj_mesh']\n",
    "\n",
    "PD_raw_pose = torch.eye(4, dtype=torch.float32)\n",
    "PD_raw_pose[:3, 3] = raw_pose_t\n",
    "PD_raw_pose[:3, :3] = cfg.POSE_TO_BOP(raw_pose_R)\n",
    "\n",
    "\n",
    "PD_icp1_pose = torch.eye(4, dtype=torch.float32)\n",
    "PD_icp1_pose[:3, 3] = icp1_pose_t\n",
    "PD_icp1_pose[:3, :3] = cfg.POSE_TO_BOP(icp1_pose_R)\n",
    "\n",
    "\n",
    "PD_icpk_pose = torch.eye(4, dtype=torch.float32)\n",
    "PD_icpk_pose[:3, 3] = icpk_pose_t\n",
    "PD_icpk_pose[:3, :3] = cfg.POSE_TO_BOP(icpk_pose_R)\n",
    "\n",
    "\n",
    "#GT_pose = torch.eye(4, dtype=torch.float32)\n",
    "#GT_pose[:3, :3] = obj_gt_R\n",
    "#GT_pose[:3, 3] = obj_gt_t\n",
    "\n",
    "obj_diameter = tar_obj_codebook['diameter']\n",
    "corner_pts = obj_mesh.bounds  # object bounding box vertices\n",
    "obj_pcl = obj_mesh.vertices\n",
    "N_pcl = len(obj_pcl)\n",
    "select_obj_idxes = torch.randperm(N_pcl)[:500]\n",
    "select_obj_pts = torch.tensor(obj_pcl[select_obj_idxes])\n",
    "\n",
    "#GT_2D_bbox = misc.box_2D_shape(points=corner_pts, pose=GT_pose, K=cam_K)\n",
    "PD_raw_2D_bbox = misc.box_2D_shape(points=corner_pts, pose=PD_raw_pose, K=cam_K)\n",
    "#PD_raw_2D_bbox = PD_raw_2D_bbox[::2]\n",
    "#PD_icp1_2D_bbox = misc.box_2D_shape(points=corner_pts, pose=PD_icp1_pose, K=cam_K)\n",
    "#PD_icpk_2D_bbox = misc.box_2D_shape(points=corner_pts, pose=PD_icpk_pose, K=cam_K)\n",
    "\n",
    "#GT_shape = misc.bbox_to_shape(GT_2D_bbox.tolist())\n",
    "PD_raw_shape = misc.bbox_to_shape(PD_raw_2D_bbox.tolist())\n",
    "#PD_icp1_shape = misc.bbox_to_shape(PD_icp1_2D_bbox.tolist())\n",
    "#PD_icpk_shape = misc.bbox_to_shape(PD_icpk_2D_bbox.tolist())\n",
    "\n",
    "#pil_img = Image.open(color_file)\n",
    "depth_map = view_depth.cpu().numpy()\n",
    "depth_map /= depth_map.max()\n",
    "depth_map *= 255; depth_map = depth_map.astype(np.uint8)\n",
    "pil_img = Image.fromarray(depth_map)\n",
    "\n",
    "Raw_bbox_img = pil_img.copy()\n",
    "#import ipdb; ipdb.set_trace()\n",
    "draw = ImageDraw.Draw(Raw_bbox_img)\n",
    "#draw.line(GT_shape, (255, 0, 0), 3)      # Red 3D bbox for GT\n",
    "draw.line(PD_raw_shape, (0, 0, 255), 3)  # Blue 3D bbox for OVE6D\n",
    "\n",
    "fig, ax = plt.subplots(1,figsize=(30, 10))\n",
    "ax.imshow(Raw_bbox_img, cmap='gray', vmin=0, vmax=1)\n",
    "ax.axis(False)\n",
    "\n",
    "#ICP1_bbox_img = pil_img.copy()\n",
    "#draw = ImageDraw.Draw(ICP1_bbox_img)\n",
    "##draw.line(GT_shape, (255, 0, 0), 3)  # Red 3D bbox for GT\n",
    "#draw.line(PD_icp1_shape, (0, 255, 0), 3)  # Green 3D bbox for OVE6D with ICP after pose selection\n",
    "#\n",
    "#\n",
    "#ICPK_bbox_img = pil_img.copy()\n",
    "#draw = ImageDraw.Draw(ICPK_bbox_img)\n",
    "##draw.line(GT_shape, (255, 0, 0), 3)  # Red 3D bbox for GT\n",
    "#draw.line(PD_icpk_shape, (255, 0, 255), 3)  # Cyan 3D bbox for OVE6D with ICP before pose selection\n",
    "\n",
    "\n",
    "##### calculate the pose errors ########\n",
    "#raw_R_err = utils.rotation_error(raw_pose_R, obj_gt_R)\n",
    "#icp1_R_err = utils.rotation_error(icp1_pose_R, obj_gt_R)\n",
    "#icpk_R_err = utils.rotation_error(icpk_pose_R, obj_gt_R)\n",
    "#\n",
    "#raw_t_err = (((raw_pose_t - obj_gt_t)**2).sum())**0.5 * 1000\n",
    "#icp1_t_err = (((icp1_pose_t - obj_gt_t)**2).sum())**0.5 * 1000\n",
    "#icpk_t_err = (((icpk_pose_t - obj_gt_t)**2).sum())**0.5 * 1000\n",
    "#\n",
    "#\n",
    "#raw_add_err = misc.add(R_est=raw_pose_R.numpy(), t_est=raw_pose_t.numpy(), \n",
    "#                        R_gt=obj_gt_R.numpy(), t_gt=obj_gt_t.numpy(), \n",
    "#                        pts=select_obj_pts.numpy())*1000\n",
    "#raw_adi_err = misc.adi(R_est=raw_pose_R.numpy(), t_est=raw_pose_t.numpy(), \n",
    "#                        R_gt=obj_gt_R.numpy(), t_gt=obj_gt_t.numpy(), \n",
    "#                        pts=select_obj_pts.numpy())*1000\n",
    "#\n",
    "#icp1_add_err = misc.add(R_est=icp1_pose_R.numpy(), t_est=icp1_pose_t.numpy(), \n",
    "#                        R_gt=obj_gt_R.numpy(), t_gt=obj_gt_t.numpy(), \n",
    "#                        pts=select_obj_pts.numpy())*1000\n",
    "#icp1_adi_err = misc.adi(R_est=icp1_pose_R.numpy(), t_est=icp1_pose_t.numpy(), \n",
    "#                        R_gt=obj_gt_R.numpy(), t_gt=obj_gt_t.numpy(), \n",
    "#                        pts=select_obj_pts.numpy())*1000\n",
    "#\n",
    "#icpk_add_err = misc.add(R_est=icpk_pose_R.numpy(), t_est=icpk_pose_t.numpy(), \n",
    "#                        R_gt=obj_gt_R.numpy(), t_gt=obj_gt_t.numpy(), \n",
    "#                        pts=select_obj_pts.numpy())*1000\n",
    "#icpk_adi_err = misc.adi(R_est=icpk_pose_R.numpy(), t_est=icpk_pose_t.numpy(), \n",
    "#                        R_gt=obj_gt_R.numpy(), t_gt=obj_gt_t.numpy(), \n",
    "#                        pts=select_obj_pts.numpy())*1000\n",
    "\n",
    "\n",
    "\n",
    "#fig, ax = plt.subplots(1,3,figsize=(30, 10))\n",
    "#ax[0].imshow(Raw_bbox_img)\n",
    "#ax[0].set_title(\"T(0.1d)={:.1f}mm, Raw R: {:.1f}˚, t: {:.1f}mm, add: {:.1f}mm, adi: {:.1f}mm\".format(\n",
    "#    obj_diameter * 100, raw_R_err, raw_t_err, raw_add_err, raw_adi_err), fontsize=20)\n",
    "#ax[1].imshow(ICP1_bbox_img)\n",
    "#ax[1].set_title(\"T={:.1f}mm, ICP1 R: {:.1f}˚, t: {:.1f}mm, add: {:.1f}mm, adi: {:.1f}mm\".format(\n",
    "#    obj_diameter * 100, icp1_R_err, icp1_t_err, icp1_add_err, icp1_adi_err), fontsize=20)\n",
    "#ax[2].imshow(ICPK_bbox_img)\n",
    "#ax[2].set_title(\"T={:.1f}mm, ICPK R: {:.1f}˚, t: {:.1f}mm, add: {:.1f}mm, adi: {:.1f}mm\".format(\n",
    "#    obj_diameter * 100, icpk_R_err, icpk_t_err, icpk_add_err, icpk_adi_err), fontsize=20)\n",
    "#ax[0].axis(False)\n",
    "#ax[1].axis(False)\n",
    "#ax[2].axis(False)\n",
    "#\n",
    "## print('object diameter: {:.1f}mm, 0.1d:{:.1f}mm'.format(obj_diameter*1000, obj_diameter*100))\n",
    "#print('GT(Red): \\t {}, diameter: {:.1f}mm, pose threshold(0.1d): {:.1f}mm'.format(obj_name, obj_diameter*1000, obj_diameter*100))\n",
    "#print('Raw(Blue): \\t rot error:{:.1f}˚, tsl_err:{:.1f}mm, add:{:.1f}mm, adi:{:.1f}mm'.format(raw_R_err, raw_t_err, raw_add_err, raw_adi_err))\n",
    "#print('ICP1(Green): \\t rot error:{:.1f}˚, tsl_err:{:.1f}mm, add:{:.1f}mm, adi:{:.1f}mm'.format(icp1_R_err, icp1_t_err, icp1_add_err, icp1_adi_err))\n",
    "#print('ICPK(Cyan): \\t rot error:{:.1f}˚, tsl_err:{:.1f}mm, add:{:.1f}mm, adi:{:.1f}mm'.format(icpk_R_err, icpk_t_err, icpk_add_err, icpk_adi_err))\n",
    "\n"
   ]
  },
  {
   "cell_type": "code",
   "execution_count": null,
   "id": "c2ff73aa-e805-4b77-a343-c89c95dedb6f",
   "metadata": {},
   "outputs": [],
   "source": [
    "ply_path = 'Dataspace/huawei_box/models_eval/obj_000001.ply'"
   ]
  },
  {
   "cell_type": "code",
   "execution_count": null,
   "id": "21f95132-42a4-4d78-8129-f6ecab3b442d",
   "metadata": {},
   "outputs": [],
   "source": [
    "#from pytorch3d.utils import ico_sphere\n",
    "from pytorch3d.io import load_ply\n",
    "from pytorch3d.structures import Meshes\n",
    "from pytorch3d.ops import sample_points_from_meshes\n",
    "from pytorch3d.loss import chamfer_distance\n",
    "\n",
    "# Use an ico_sphere mesh and load a mesh from an .obj e.g. model.obj\n",
    "verts, faces, _ = load_ply(\"ply_path\")\n",
    "test_mesh = Meshes(verts=[verts], faces=[faces.verts_idx])\n",
    "\n",
    "# Differentiably sample 5k points from the surface of each mesh and then compute the loss.\n",
    "sample_test = sample_points_from_meshes(test_mesh, 5000)"
   ]
  },
  {
   "cell_type": "code",
   "execution_count": null,
   "id": "d30fc14e-e297-4750-b8dd-60148d057757",
   "metadata": {},
   "outputs": [],
   "source": [
    "# Morhpology\n",
    "\n",
    "kernel = np.ones(5)\n",
    "#closing = cv2.morphologyEx(crop.numpy(), cv2.MORPH_CLOSE, kernel)\n",
    "closing = cv2.morphologyEx(crop.numpy(), cv2.MORPH_CLOSE, kernel, iterations=8)\n",
    "\n",
    "fig, ax = plt.subplots(1,2, figsize=(30,10))\n",
    "ax[0].imshow(crop.numpy())\n",
    "ax[1].imshow(closing)\n",
    "view_depth = torch.tensor(closing)"
   ]
  }
 ],
 "metadata": {
  "interpreter": {
   "hash": "eb54269f6222b6ab0b3eebeb4bda3d4fe55f11f569665d5647d56bc5c73b90b7"
  },
  "kernelspec": {
   "display_name": "pose",
   "language": "python",
   "name": "pose"
  },
  "language_info": {
   "codemirror_mode": {
    "name": "ipython",
    "version": 3
   },
   "file_extension": ".py",
   "mimetype": "text/x-python",
   "name": "python",
   "nbconvert_exporter": "python",
   "pygments_lexer": "ipython3",
   "version": "3.9.13"
  }
 },
 "nbformat": 4,
 "nbformat_minor": 5
}
