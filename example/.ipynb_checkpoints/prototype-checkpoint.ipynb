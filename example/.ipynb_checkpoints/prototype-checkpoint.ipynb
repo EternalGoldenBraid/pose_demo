{
 "cells": [
  {
   "cell_type": "code",
   "execution_count": 2,
   "id": "useful-subscription",
   "metadata": {
    "scrolled": true
   },
   "outputs": [],
   "source": [
    "import os\n",
    "import cv2\n",
    "import sys\n",
    "import json\n",
    "import math\n",
    "import time\n",
    "import torch\n",
    "import warnings\n",
    "import numpy as np\n",
    "from PIL import Image, ImageDraw\n",
    "from pathlib import Path\n",
    "\n",
    "from matplotlib import pyplot as plt\n",
    "from detectron2 import model_zoo\n",
    "from detectron2.config import get_cfg\n",
    "from detectron2.engine import DefaultPredictor\n",
    "\n",
    "\n",
    "\n",
    "from os.path import join as pjoin\n",
    "from bop_toolkit_lib import inout\n",
    "warnings.filterwarnings(\"ignore\")\n",
    "\n",
    "base_path = os.path.dirname(os.path.abspath(\".\"))\n",
    "sys.path.append(base_path)\n",
    "\n",
    "from lib import rendering, network\n",
    "\n",
    "from dataset import LineMOD_Dataset, prototype_Dataset\n",
    "from evaluation import utils\n",
    "from evaluation import config as cfg\n",
    "\n",
    "gpu_id = 0\n",
    "# gpu_id = 1\n",
    "\n",
    "os.environ[\"CUDA_DEVICE_ORDER\"]=\"PCI_BUS_ID\"\n",
    "os.environ[\"CUDA_VISIBLE_DEVICES\"] = str(gpu_id)\n",
    "os.environ['EGL_DEVICE_ID'] = str(gpu_id)\n",
    "DEVICE = torch.device('cuda')\n",
    "\n",
    "\n",
    "datapath = Path(cfg.DATA_PATH)\n",
    "eval_dataset = prototype_Dataset.Dataset(datapath / 'huawei_box')\n",
    "#eval_dataset = LineMOD_Dataset.Dataset(datapath / 'lm')\n",
    "\n",
    "#cfg.RENDER_WIDTH = eval_dataset.cam_width    # the width of rendered images\n",
    "#cfg.RENDER_HEIGHT = eval_dataset.cam_height  # the height of rendered images\n",
    "cfg.RENDER_WIDTH = 640    # the width of rendered images\n",
    "cfg.RENDER_HEIGHT = 480  # the height of rendered images\n",
    "\n",
    "cfg.DATASET_NAME = 'huawei_box'        # dataset name\n",
    "#cfg.DATASET_NAME = 'lm'        # dataset name\n",
    "\n",
    "cfg.HEMI_ONLY = False   # only the upper hemishpere is used for LineMOD\n"
   ]
  },
  {
   "cell_type": "markdown",
   "id": "37d46f50",
   "metadata": {},
   "source": [
    "# Load Mask-RCNN model"
   ]
  },
  {
   "cell_type": "code",
   "execution_count": 2,
   "id": "dd464b03-aed8-41b9-be10-a460c34d726a",
   "metadata": {},
   "outputs": [],
   "source": [
    "#Not needed for image test"
   ]
  },
  {
   "cell_type": "code",
   "execution_count": 3,
   "id": "573ed547",
   "metadata": {},
   "outputs": [],
   "source": [
    "################################################# MASK-RCNN Segmentation ##################################################################\n",
    "#rcnnIdx_to_lmIds_dict = {0:1, 1:2, 2:3, 3:4, 4:5, 5:6, 6:7, 7:8, 8:9, 9:10, 10:11, 11:12, 12:13, 13:14, 14:15}\n",
    "#rcnnIdx_to_lmCats_dict ={0:'Ape', 1:'Benchvice', 2:'Bowl', 3:'Camera', 4:'Can', 5:'Cat', 6:'Cup', 7:'Driller', \n",
    "#                        8:'Duck', 9:'Eggbox', 10:'Glue', 11:'Holepunch', 12:'Iron', 13:'Lamp', 14:'Phone'}\n",
    "#rcnn_cfg = get_cfg()\n",
    "#rcnn_cfg.merge_from_file(model_zoo.get_config_file(\"COCO-InstanceSegmentation/mask_rcnn_R_50_FPN_3x.yaml\"))\n",
    "#rcnn_cfg.MODEL.WEIGHTS = os.path.abspath(os.path.join(base_path, 'checkpoints','lm_maskrcnn_model.pth'))\n",
    "#rcnn_cfg.MODEL.ROI_HEADS.NUM_CLASSES = len(rcnnIdx_to_lmCats_dict)\n",
    "#rcnn_cfg.MODEL.ROI_HEADS.SCORE_THRESH_TEST = 0.001 # the predicted category scores\n",
    "#predictor = DefaultPredictor(rcnn_cfg)\n",
    "################################################## MASK-RCNN Segmentation ##################################################################\n",
    "#print('Mask-RCNN has been loaded!')"
   ]
  },
  {
   "cell_type": "markdown",
   "id": "65717a2c",
   "metadata": {},
   "source": [
    "# Load OVE6D model"
   ]
  },
  {
   "cell_type": "code",
   "execution_count": 3,
   "id": "24195e98",
   "metadata": {},
   "outputs": [
    {
     "name": "stdout",
     "output_type": "stream",
     "text": [
      "OVE6D has been loaded!\n"
     ]
    }
   ],
   "source": [
    "\n",
    "ckpt_file = pjoin(base_path, \n",
    "                'checkpoints', \n",
    "                \"OVE6D_pose_model.pth\"\n",
    "                )\n",
    "model_net = network.OVE6D().to(DEVICE)\n",
    "\n",
    "model_net.load_state_dict(torch.load(ckpt_file))\n",
    "model_net.eval()\n",
    "print('OVE6D has been loaded!')"
   ]
  },
  {
   "cell_type": "markdown",
   "id": "54e9571f",
   "metadata": {},
   "source": [
    "#  Load object viewpoint codebooks"
   ]
  },
  {
   "cell_type": "code",
   "execution_count": 5,
   "id": "9788e898-d3ef-44cf-bdcc-56d0e12419cf",
   "metadata": {},
   "outputs": [
    {
     "name": "stdout",
     "output_type": "stream",
     "text": [
      "Dataspace/huawei_box/models_eval\n",
      "<module 'evaluation.config' from '/home/nicklas/Projects/pose_demo/OVE6D-pose/evaluation/config.py'>\n"
     ]
    }
   ],
   "source": [
    "print(eval_dataset.model_dir)\n",
    "print(cfg)"
   ]
  },
  {
   "cell_type": "code",
   "execution_count": 5,
   "id": "4e2da40d",
   "metadata": {},
   "outputs": [
    {
     "name": "stdout",
     "output_type": "stream",
     "text": [
      "generating codebook for 4000 viewpoints ...\n",
      "render_time:65.675, encoding_time:0.065\n",
      "obj_id:  1 06_27-16:08:32\n",
      "Object codebooks have been loaded!\n"
     ]
    }
   ],
   "source": [
    "\n",
    "cfg.VIEWBOOK_BATCHSIZE = 20 # reduce this if out of GPU memory, \n",
    "codebook_saving_dir = pjoin(base_path,'evaluation/object_codebooks',\n",
    "                            cfg.DATASET_NAME, \n",
    "                            'zoom_{}'.format(cfg.ZOOM_DIST_FACTOR), \n",
    "                            'views_{}'.format(str(cfg.RENDER_NUM_VIEWS)))\n",
    "\n",
    "\n",
    "\n",
    "object_codebooks = utils.OVE6D_codebook_generation(codebook_dir=codebook_saving_dir, \n",
    "                                                    model_func=model_net,\n",
    "                                                    dataset=eval_dataset, \n",
    "                                                    config=cfg, \n",
    "                                                    device=DEVICE)\n",
    "print('Object codebooks have been loaded!')"
   ]
  },
  {
   "cell_type": "code",
   "execution_count": 7,
   "id": "e05fd7f1-c0c8-4d85-8139-8d629cbd890b",
   "metadata": {},
   "outputs": [],
   "source": [
    "#<trimesh.PointCloud(vertices.shape=(915260, 3))>"
   ]
  },
  {
   "cell_type": "markdown",
   "id": "fbdcb098",
   "metadata": {
    "tags": []
   },
   "source": [
    "# Object segmentation and pose estimation "
   ]
  },
  {
   "cell_type": "code",
   "execution_count": 8,
   "id": "33a0eed3-6c84-48a5-b6ac-b33020c21e5c",
   "metadata": {},
   "outputs": [
    {
     "name": "stdout",
     "output_type": "stream",
     "text": [
      "torch.Size([50, 128, 60]) torch.Size([50, 128, 60])\n",
      "torch.Size([50, 60, 60])\n"
     ]
    }
   ],
   "source": [
    "import torch as t\n",
    "import numpy as np\n",
    "\n",
    "b = 50\n",
    "c = 128\n",
    "d = 60\n",
    "\n",
    "x = t.rand(b,c,d).to('cuda')\n",
    "y = t.rand(b,c,d).to('cuda')\n",
    "\n",
    "print(x.shape, y.shape)\n",
    "z = t.bmm(x.permute(0,2,1), y)\n",
    "print(z.shape)\n"
   ]
  },
  {
   "cell_type": "code",
   "execution_count": 7,
   "id": "f646ea2b-1c1a-484b-b5ea-943b20ffa658",
   "metadata": {},
   "outputs": [
    {
     "data": {
      "text/plain": [
       "'Dataspace/huawei_box/test/000001'"
      ]
     },
     "execution_count": 7,
     "metadata": {},
     "output_type": "execute_result"
    }
   ],
   "source": [
    "scene_dir"
   ]
  },
  {
   "cell_type": "code",
   "execution_count": 41,
   "id": "4ccad0eb-689b-49da-b7d0-ef335a55449b",
   "metadata": {},
   "outputs": [
    {
     "name": "stdout",
     "output_type": "stream",
     "text": [
      "Dataspace/huawei_box/test/000001/_Depth_1656333461794.60351562500000.raw\n"
     ]
    },
    {
     "data": {
      "text/plain": [
       "(640, 480)"
      ]
     },
     "execution_count": 41,
     "metadata": {},
     "output_type": "execute_result"
    },
    {
     "data": {
      "image/png": "[encoded data removed]",
      "text/plain": [
       "<Figure size 432x288 with 1 Axes>"
      ]
     },
     "metadata": {
      "needs_background": "light"
     },
     "output_type": "display_data"
    }
   ],
   "source": [
    "# https://stackoverflow.com/questions/32439831/open-raw-image-data-using-python\n",
    "\n",
    "import rawpy\n",
    "path = datapath/'huawei_box'/'test'/'000001'/'_Depth_1656333461794.60351562500000.raw'\n",
    "#with open(path, 'rb') as f:\n",
    "#    depth = f\n",
    "print(path)\n",
    "#with rawpy.imread(path) as raw:\n",
    "    #rgb = raw.postprocess()\n",
    "#    rgb = raw.raw_image\n",
    "depth = np.fromfile(path, dtype=np.uint16).reshape((640,480), order='F')\n",
    "plt.imshow(depth)\n",
    "depth.shape"
   ]
  },
  {
   "cell_type": "code",
   "execution_count": 14,
   "id": "39410384",
   "metadata": {},
   "outputs": [
    {
     "name": "stderr",
     "output_type": "stream",
     "text": [
      "Exception ignored in: <function Renderer.__del__ at 0x7f774029e820>\n",
      "Traceback (most recent call last):\n",
      "  File \"/home/nicklas/Projects/pose_demo/OVE6D-pose/lib/rendering.py\", line 248, in __del__\n",
      "    self._renderer.delete()\n",
      "  File \"/home/nicklas/Projects/pose_demo/OVE6D-pose/venv/lib/python3.8/site-packages/pyrender/offscreen.py\", line 119, in delete\n",
      "    self._platform.make_current()\n",
      "  File \"/home/nicklas/Projects/pose_demo/OVE6D-pose/venv/lib/python3.8/site-packages/pyrender/platforms/egl.py\", line 196, in make_current\n",
      "    assert eglMakeCurrent(\n",
      "  File \"src/errorchecker.pyx\", line 58, in OpenGL_accelerate.errorchecker._ErrorChecker.glCheckError\n",
      "OpenGL.error.GLError: GLError(\n",
      "\terr = 12294,\n",
      "\tbaseOperation = eglMakeCurrent,\n",
      "\tcArguments = (\n",
      "\t\t<OpenGL._opaque.EGLDisplay_pointer object at 0x7f763cb7c940>,\n",
      "\t\t<OpenGL._opaque.EGLSurface_pointer object at 0x7f7641b0ecc0>,\n",
      "\t\t<OpenGL._opaque.EGLSurface_pointer object at 0x7f7641b0ecc0>,\n",
      "\t\t<OpenGL._opaque.EGLContext_pointer object at 0x7f763ef12440>,\n",
      "\t),\n",
      "\tresult = 0\n",
      ")\n"
     ]
    },
    {
     "ename": "UnidentifiedImageError",
     "evalue": "cannot identify image file 'Dataspace/huawei_box/test/000001/depth/_Depth_1656333461794.60351562500000.csv'",
     "output_type": "error",
     "traceback": [
      "\u001b[0;31m---------------------------------------------------------------------------\u001b[0m",
      "\u001b[0;31mUnidentifiedImageError\u001b[0m                    Traceback (most recent call last)",
      "Input \u001b[0;32mIn [14]\u001b[0m, in \u001b[0;36m<cell line: 38>\u001b[0;34m()\u001b[0m\n\u001b[1;32m     26\u001b[0m view_cam_info \u001b[38;5;241m=\u001b[39m scene_camera_info[\u001b[38;5;28mstr\u001b[39m(\u001b[38;5;241m0\u001b[39m)]  \u001b[38;5;66;03m# scene camera information        \u001b[39;00m\n\u001b[1;32m     28\u001b[0m \u001b[38;5;66;03m############## read the ground truth pose for calculating errors ##############\u001b[39;00m\n\u001b[1;32m     29\u001b[0m \u001b[38;5;66;03m#gt_pose_file = os.path.join(scene_dir, 'scene_gt.json')\u001b[39;00m\n\u001b[1;32m     30\u001b[0m \u001b[38;5;66;03m#with open(gt_pose_file, 'r') as pose_f:\u001b[39;00m\n\u001b[0;32m   (...)\u001b[0m\n\u001b[1;32m     36\u001b[0m \n\u001b[1;32m     37\u001b[0m \u001b[38;5;66;03m############## read the depth images and covert it from meter to millimeter ##############\u001b[39;00m\n\u001b[0;32m---> 38\u001b[0m view_depth \u001b[38;5;241m=\u001b[39m torch\u001b[38;5;241m.\u001b[39mtensor(np\u001b[38;5;241m.\u001b[39marray(\u001b[43mImage\u001b[49m\u001b[38;5;241;43m.\u001b[39;49m\u001b[43mopen\u001b[49m\u001b[43m(\u001b[49m\u001b[43mdepth_file\u001b[49m\u001b[43m)\u001b[49m), dtype\u001b[38;5;241m=\u001b[39mtorch\u001b[38;5;241m.\u001b[39mfloat32) \u001b[38;5;66;03m# HxW\u001b[39;00m\n\u001b[1;32m     39\u001b[0m view_depth \u001b[38;5;241m*\u001b[39m\u001b[38;5;241m=\u001b[39m view_cam_info[\u001b[38;5;124m'\u001b[39m\u001b[38;5;124mdepth_scale\u001b[39m\u001b[38;5;124m'\u001b[39m]\n\u001b[1;32m     40\u001b[0m view_depth \u001b[38;5;241m*\u001b[39m\u001b[38;5;241m=\u001b[39m cfg\u001b[38;5;241m.\u001b[39mMODEL_SCALING \u001b[38;5;66;03m# convert to meter scale from millimeter scale\u001b[39;00m\n",
      "File \u001b[0;32m~/Projects/pose_demo/OVE6D-pose/venv/lib/python3.8/site-packages/PIL/Image.py:2930\u001b[0m, in \u001b[0;36mopen\u001b[0;34m(fp, mode)\u001b[0m\n\u001b[1;32m   2928\u001b[0m \u001b[38;5;28;01mfor\u001b[39;00m message \u001b[38;5;129;01min\u001b[39;00m accept_warnings:\n\u001b[1;32m   2929\u001b[0m     warnings\u001b[38;5;241m.\u001b[39mwarn(message)\n\u001b[0;32m-> 2930\u001b[0m \u001b[38;5;28;01mraise\u001b[39;00m UnidentifiedImageError(\n\u001b[1;32m   2931\u001b[0m     \u001b[38;5;124m\"\u001b[39m\u001b[38;5;124mcannot identify image file \u001b[39m\u001b[38;5;132;01m%r\u001b[39;00m\u001b[38;5;124m\"\u001b[39m \u001b[38;5;241m%\u001b[39m (filename \u001b[38;5;28;01mif\u001b[39;00m filename \u001b[38;5;28;01melse\u001b[39;00m fp)\n\u001b[1;32m   2932\u001b[0m )\n",
      "\u001b[0;31mUnidentifiedImageError\u001b[0m: cannot identify image file 'Dataspace/huawei_box/test/000001/depth/_Depth_1656333461794.60351562500000.csv'"
     ]
    }
   ],
   "source": [
    "\n",
    "cfg.VP_NUM_TOPK = 50   # the retrieval number of viewpoint \n",
    "cfg.RANK_NUM_TOPK = 5  # the ranking number of full 3D orientation \n",
    "\n",
    "#test_data_dir = datapath / 'lm' / 'test'          # path to the test dataset of BOP\n",
    "test_data_dir = datapath / 'huawei_box' / 'test'          # path to the test dataset of BOP\n",
    "obj_renderer = rendering.Renderer(width=cfg.RENDER_WIDTH, height=cfg.RENDER_HEIGHT)\n",
    "\n",
    "scene_id = 1   # range [1, 15]\n",
    "view_id = '0008'  # range [0, 1214]\n",
    "\n",
    "scene_dir = pjoin(test_data_dir, '{:06d}'.format(scene_id))\n",
    "#color_file = pjoin(scene_dir, 'rgb/{:04d}.png'.format(view_id))\n",
    "depth_file = pjoin(scene_dir, 'depth/_Depth_1656333461794.60351562500000.csv')\n",
    "#mask_file = pjoin(scene_dir, 'mask_visib/{:06d}_{:06d}.png'.format(view_id, 0))\n",
    "mask_file = pjoin(scene_dir, 'mask/_mask_1656333461794.60351562500000.png')\n",
    "\n",
    "\n",
    "tar_obj_id = scene_id # object id equals the scene id for LM dataset\n",
    "tar_obj_codebook = object_codebooks[1]\n",
    "\n",
    "############## read the camera information ##############\n",
    "cam_info_file = pjoin(scene_dir, 'scene_camera.json')\n",
    "with open(cam_info_file, 'r') as cam_f:\n",
    "    scene_camera_info = json.load(cam_f)\n",
    "#view_cam_info = scene_camera_info[str(view_id)]  # scene camera information   \n",
    "view_cam_info = scene_camera_info[str(0)]  # scene camera information        \n",
    "\n",
    "############## read the ground truth pose for calculating errors ##############\n",
    "#gt_pose_file = os.path.join(scene_dir, 'scene_gt.json')\n",
    "#with open(gt_pose_file, 'r') as pose_f:\n",
    "#    pose_anno = json.load(pose_f)\n",
    "#view_pose = pose_anno[str(view_id)][0]\n",
    "#obj_gt_R = cfg.BOP_REF_POSE(torch.tensor(view_pose['cam_R_m2c'], dtype=torch.float32).view(3, 3))\n",
    "#obj_gt_t = torch.tensor(view_pose['cam_t_m2c'], dtype=torch.float32) * cfg.MODEL_SCALING\n",
    "\n",
    "\n",
    "############## read the depth images and covert it from meter to millimeter ##############\n",
    "view_depth = torch.tensor(np.array(Image.open(depth_fil1656333461794.60351562500000e)), dtype=torch.float32) # HxW\n",
    "view_depth *= view_cam_info['depth_scale']\n",
    "view_depth *= cfg.MODEL_SCALING # convert to meter scale from millimeter scale\n",
    "view_camK = torch.tensor(view_cam_info['cam_K'], dtype=torch.float32).view(3, 3)[None, ...] # 1x3x3\n",
    "cam_K = view_camK.to(DEVICE)\n",
    "view_depth = view_depth.to(DEVICE)\n",
    "obj_mask = torch.tensor(np.array(Image.open(mask_file)), dtype=torch.float32)\n",
    "\n",
    "\n",
    "fig, ax = plt.subplots(4)\n",
    "ax = ax.flatten()\n",
    "ax[0].imshow(view_depth[:,:,0].cpu())\n",
    "ax[1].imshow(view_depth[:,:,1].cpu())\n",
    "ax[2].imshow(view_depth[:,:,2].cpu())\n",
    "ax[3].imshow(view_depth.mean(dim=2).cpu())\n",
    "import ipdb; ipdb.set_trace()\n",
    "\n",
    "\n",
    "#ax[1].imshow(obj_mask[0].cpu())\n",
    "\n",
    "############## read rgb image for object segmentation ##############\n",
    "#\n",
    "### TODO:\n",
    "#view_timer = time.time() \n",
    "#rgb_img = cv2.imread(color_file)\n",
    "#imread_cost = time.time() - view_timer\n",
    "#\n",
    "#rcnn_timer = time.time()\n",
    "#output = predictor(rgb_img)\n",
    "#rcnn_pred_ids = output[\"instances\"].pred_classes\n",
    "#rcnn_pred_masks = output[\"instances\"].pred_masks\n",
    "#rcnn_pred_scores = output[\"instances\"].scores\n",
    "#rcnn_cost = time.time() - rcnn_timer\n",
    "###################### object segmentation ######################\n",
    "\n",
    "#tar_rcnn_d = tar_obj_id - 1\n",
    "#obj_masks = rcnn_pred_masks # NxHxW\n",
    "#obj_depths = view_depth[None, ...] * obj_masks\n",
    "#tar_obj_depths = obj_depths[tar_rcnn_d==rcnn_pred_ids]\n",
    "#tar_obj_masks = rcnn_pred_masks[tar_rcnn_d==rcnn_pred_ids]\n",
    "#tar_obj_scores = rcnn_pred_scores[tar_rcnn_d==rcnn_pred_ids]\n",
    "\n",
    "#mask_pixel_count = tar_obj_masks.view(tar_obj_masks.size(0), -1).sum(dim=1)\n",
    "#valid_idx = (mask_pixel_count >= 100)\n",
    "#if valid_idx.sum() == 0:\n",
    "#    mask_visib_ratio = mask_pixel_count / mask_pixel_count.max()\n",
    "#    valid_idx = mask_visib_ratio >= 0.05\n",
    "#\n",
    "#tar_obj_masks = tar_obj_masks[valid_idx] # select the target object instance masks\n",
    "#tar_obj_depths = tar_obj_depths[valid_idx]\n",
    "#tar_obj_scores = tar_obj_scores[valid_idx]\n",
    "\n",
    "pose_ret = utils.OVE6D_mask_full_pose(model_func=model_net, \n",
    "                                    obj_depth=view_depth,\n",
    "                                    obj_mask=obj_mask,\n",
    "                                    obj_codebook=tar_obj_codebook,\n",
    "                                    cam_K=cam_K,\n",
    "                                    config=cfg,\n",
    "                                    obj_renderer=obj_renderer,\n",
    "                                    device=DEVICE)\n",
    "\n",
    "#pose_ret, rcnn_idx = utils.OVE6D_rcnn_full_pose(model_func=model_net, \n",
    "#                                    obj_depths=tar_obj_depths,\n",
    "#                                    obj_masks=tar_obj_masks,\n",
    "#                                    obj_rcnn_scores=tar_obj_scores,\n",
    "#                                    obj_codebook=tar_obj_codebook, \n",
    "#                                    cam_K=cam_K,\n",
    "#                                    config=cfg, \n",
    "#                                    device=DEVICE,\n",
    "#                                    obj_renderer=obj_renderer, \n",
    "#                                    return_rcnn_idx=True\n",
    "#                                    )\n",
    "del obj_renderer\n",
    "\n",
    "raw_pose_R = pose_ret['raw_R'] # without ICP\n",
    "raw_pose_t = pose_ret['raw_t'] # without ICP\n",
    "\n",
    "icp1_pose_R = pose_ret['icp1_R'] # with ICP after pose selection\n",
    "icp1_pose_t = pose_ret['icp1_t'] # with ICP after pose selection\n",
    "\n",
    "icpk_pose_R = pose_ret['icpk_R'] # with ICP before pose selection\n",
    "icpk_pose_t = pose_ret['icpk_t'] # with ICP before pose selection\n",
    "\n",
    "#plt.imshow(tar_obj_masks.sum(dim=0).cpu())\n",
    "#plt.axis(False)\n",
    "\n",
    "#obj_name = rcnnIdx_to_lmCats_dict[tar_rcnn_d]\n",
    "\n",
    "#print('object: {}, the {}-th ({:.3f}) RCNN prediction is selected for estimating 6D pose. '.format(\n",
    "#    obj_name, rcnn_idx, tar_obj_scores[rcnn_idx]))\n",
    "#print('RCNN confs: {}'.format(tar_obj_scores.cpu().numpy()))"
   ]
  },
  {
   "cell_type": "code",
   "execution_count": 23,
   "id": "aeeac347-c993-4c10-9ae6-aecae7f9153e",
   "metadata": {},
   "outputs": [
    {
     "name": "stdout",
     "output_type": "stream",
     "text": [
      "torch.Size([480, 480])\n"
     ]
    },
    {
     "data": {
      "text/plain": [
       "torch.Size([1, 480, 480])"
      ]
     },
     "execution_count": 23,
     "metadata": {},
     "output_type": "execute_result"
    }
   ],
   "source": [
    "print(view_depth.shape)\n",
    "obj_mask.shape"
   ]
  },
  {
   "cell_type": "code",
   "execution_count": 27,
   "id": "cced9c34-d156-4ed1-8a6e-8b369b2ad499",
   "metadata": {},
   "outputs": [
    {
     "data": {
      "text/plain": [
       "<matplotlib.image.AxesImage at 0x7f92a0d35e80>"
      ]
     },
     "execution_count": 27,
     "metadata": {},
     "output_type": "execute_result"
    },
    {
     "data": {
      "image/png": "[encoded data removed]",
      "text/plain": [
       "<Figure size 432x288 with 1 Axes>"
      ]
     },
     "metadata": {
      "needs_background": "light"
     },
     "output_type": "display_data"
    }
   ],
   "source": [
    "plt.imshow(view_depth.cpu()*obj_mask[0].cpu())"
   ]
  },
  {
   "cell_type": "code",
   "execution_count": 28,
   "id": "816d3b5f-65bf-4e49-9eb7-b280ec9f8264",
   "metadata": {},
   "outputs": [
    {
     "data": {
      "text/plain": [
       "tensor(68.3400)"
      ]
     },
     "execution_count": 28,
     "metadata": {},
     "output_type": "execute_result"
    }
   ],
   "source": [
    "obj_depth = view_depth.cpu()*obj_mask[0].cpu()\n",
    "obj_depth.max()"
   ]
  },
  {
   "cell_type": "markdown",
   "id": "b779dcfc",
   "metadata": {
    "tags": []
   },
   "source": [
    "# Visualize the predicted pose"
   ]
  },
  {
   "cell_type": "code",
   "execution_count": 17,
   "id": "e9ce0bb1",
   "metadata": {},
   "outputs": [
    {
     "ename": "SystemError",
     "evalue": "<method 'draw_ink' of 'ImagingDraw' objects> returned NULL without setting an error",
     "output_type": "error",
     "traceback": [
      "\u001b[0;31m---------------------------------------------------------------------------\u001b[0m",
      "\u001b[0;31mSystemError\u001b[0m                               Traceback (most recent call last)",
      "Input \u001b[0;32mIn [17]\u001b[0m, in \u001b[0;36m<cell line: 47>\u001b[0;34m()\u001b[0m\n\u001b[1;32m     45\u001b[0m draw \u001b[38;5;241m=\u001b[39m ImageDraw\u001b[38;5;241m.\u001b[39mDraw(Raw_bbox_img)\n\u001b[1;32m     46\u001b[0m \u001b[38;5;66;03m#draw.line(GT_shape, (255, 0, 0), 3)      # Red 3D bbox for GT\u001b[39;00m\n\u001b[0;32m---> 47\u001b[0m \u001b[43mdraw\u001b[49m\u001b[38;5;241;43m.\u001b[39;49m\u001b[43mline\u001b[49m\u001b[43m(\u001b[49m\u001b[43mPD_raw_shape\u001b[49m\u001b[43m,\u001b[49m\u001b[43m \u001b[49m\u001b[43m(\u001b[49m\u001b[38;5;241;43m0\u001b[39;49m\u001b[43m,\u001b[49m\u001b[43m \u001b[49m\u001b[38;5;241;43m0\u001b[39;49m\u001b[43m,\u001b[49m\u001b[43m \u001b[49m\u001b[38;5;241;43m255\u001b[39;49m\u001b[43m)\u001b[49m\u001b[43m,\u001b[49m\u001b[43m \u001b[49m\u001b[38;5;241;43m3\u001b[39;49m\u001b[43m)\u001b[49m  \u001b[38;5;66;03m# Blue 3D bbox for OVE6D\u001b[39;00m\n\u001b[1;32m     50\u001b[0m ICP1_bbox_img \u001b[38;5;241m=\u001b[39m pil_img\u001b[38;5;241m.\u001b[39mcopy()\n\u001b[1;32m     51\u001b[0m draw \u001b[38;5;241m=\u001b[39m ImageDraw\u001b[38;5;241m.\u001b[39mDraw(ICP1_bbox_img)\n",
      "File \u001b[0;32m~/Projects/pose_demo/OVE6D-pose/venv/lib/python3.8/site-packages/PIL/ImageDraw.py:155\u001b[0m, in \u001b[0;36mImageDraw.line\u001b[0;34m(self, xy, fill, width, joint)\u001b[0m\n\u001b[1;32m    153\u001b[0m \u001b[38;5;28;01mdef\u001b[39;00m \u001b[38;5;21mline\u001b[39m(\u001b[38;5;28mself\u001b[39m, xy, fill\u001b[38;5;241m=\u001b[39m\u001b[38;5;28;01mNone\u001b[39;00m, width\u001b[38;5;241m=\u001b[39m\u001b[38;5;241m0\u001b[39m, joint\u001b[38;5;241m=\u001b[39m\u001b[38;5;28;01mNone\u001b[39;00m):\n\u001b[1;32m    154\u001b[0m     \u001b[38;5;124;03m\"\"\"Draw a line, or a connected sequence of line segments.\"\"\"\u001b[39;00m\n\u001b[0;32m--> 155\u001b[0m     ink \u001b[38;5;241m=\u001b[39m \u001b[38;5;28;43mself\u001b[39;49m\u001b[38;5;241;43m.\u001b[39;49m\u001b[43m_getink\u001b[49m\u001b[43m(\u001b[49m\u001b[43mfill\u001b[49m\u001b[43m)\u001b[49m[\u001b[38;5;241m0\u001b[39m]\n\u001b[1;32m    156\u001b[0m     \u001b[38;5;28;01mif\u001b[39;00m ink \u001b[38;5;129;01mis\u001b[39;00m \u001b[38;5;129;01mnot\u001b[39;00m \u001b[38;5;28;01mNone\u001b[39;00m:\n\u001b[1;32m    157\u001b[0m         \u001b[38;5;28mself\u001b[39m\u001b[38;5;241m.\u001b[39mdraw\u001b[38;5;241m.\u001b[39mdraw_lines(xy, ink, width)\n",
      "File \u001b[0;32m~/Projects/pose_demo/OVE6D-pose/venv/lib/python3.8/site-packages/PIL/ImageDraw.py:113\u001b[0m, in \u001b[0;36mImageDraw._getink\u001b[0;34m(self, ink, fill)\u001b[0m\n\u001b[1;32m    111\u001b[0m     \u001b[38;5;28;01mif\u001b[39;00m \u001b[38;5;28mself\u001b[39m\u001b[38;5;241m.\u001b[39mpalette \u001b[38;5;129;01mand\u001b[39;00m \u001b[38;5;129;01mnot\u001b[39;00m \u001b[38;5;28misinstance\u001b[39m(ink, numbers\u001b[38;5;241m.\u001b[39mNumber):\n\u001b[1;32m    112\u001b[0m         ink \u001b[38;5;241m=\u001b[39m \u001b[38;5;28mself\u001b[39m\u001b[38;5;241m.\u001b[39mpalette\u001b[38;5;241m.\u001b[39mgetcolor(ink)\n\u001b[0;32m--> 113\u001b[0m     ink \u001b[38;5;241m=\u001b[39m \u001b[38;5;28;43mself\u001b[39;49m\u001b[38;5;241;43m.\u001b[39;49m\u001b[43mdraw\u001b[49m\u001b[38;5;241;43m.\u001b[39;49m\u001b[43mdraw_ink\u001b[49m\u001b[43m(\u001b[49m\u001b[43mink\u001b[49m\u001b[43m)\u001b[49m\n\u001b[1;32m    114\u001b[0m \u001b[38;5;28;01mif\u001b[39;00m fill \u001b[38;5;129;01mis\u001b[39;00m \u001b[38;5;129;01mnot\u001b[39;00m \u001b[38;5;28;01mNone\u001b[39;00m:\n\u001b[1;32m    115\u001b[0m     \u001b[38;5;28;01mif\u001b[39;00m \u001b[38;5;28misinstance\u001b[39m(fill, \u001b[38;5;28mstr\u001b[39m):\n",
      "\u001b[0;31mSystemError\u001b[0m: <method 'draw_ink' of 'ImagingDraw' objects> returned NULL without setting an error"
     ]
    }
   ],
   "source": [
    "import misc \n",
    "\n",
    "obj_mesh = tar_obj_codebook['obj_mesh']\n",
    "\n",
    "PD_raw_pose = torch.eye(4, dtype=torch.float32)\n",
    "PD_raw_pose[:3, 3] = raw_pose_t\n",
    "PD_raw_pose[:3, :3] = cfg.POSE_TO_BOP(raw_pose_R)\n",
    "\n",
    "\n",
    "PD_icp1_pose = torch.eye(4, dtype=torch.float32)\n",
    "PD_icp1_pose[:3, 3] = icp1_pose_t\n",
    "PD_icp1_pose[:3, :3] = cfg.POSE_TO_BOP(icp1_pose_R)\n",
    "\n",
    "\n",
    "PD_icpk_pose = torch.eye(4, dtype=torch.float32)\n",
    "PD_icpk_pose[:3, 3] = icpk_pose_t\n",
    "PD_icpk_pose[:3, :3] = cfg.POSE_TO_BOP(icpk_pose_R)\n",
    "\n",
    "\n",
    "#GT_pose = torch.eye(4, dtype=torch.float32)\n",
    "#GT_pose[:3, :3] = obj_gt_R\n",
    "#GT_pose[:3, 3] = obj_gt_t\n",
    "\n",
    "obj_diameter = tar_obj_codebook['diameter']\n",
    "corner_pts = obj_mesh.bounds  # object bounding box vertices\n",
    "obj_pcl = obj_mesh.vertices\n",
    "N_pcl = len(obj_pcl)\n",
    "select_obj_idxes = torch.randperm(N_pcl)[:500]\n",
    "select_obj_pts = torch.tensor(obj_pcl[select_obj_idxes])\n",
    "\n",
    "#GT_2D_bbox = misc.box_2D_shape(points=corner_pts, pose=GT_pose, K=cam_K)\n",
    "PD_raw_2D_bbox = misc.box_2D_shape(points=corner_pts, pose=PD_raw_pose, K=cam_K)\n",
    "PD_icp1_2D_bbox = misc.box_2D_shape(points=corner_pts, pose=PD_icp1_pose, K=cam_K)\n",
    "PD_icpk_2D_bbox = misc.box_2D_shape(points=corner_pts, pose=PD_icpk_pose, K=cam_K)\n",
    "\n",
    "#GT_shape = misc.bbox_to_shape(GT_2D_bbox.tolist())\n",
    "PD_raw_shape = misc.bbox_to_shape(PD_raw_2D_bbox.tolist())\n",
    "PD_icp1_shape = misc.bbox_to_shape(PD_icp1_2D_bbox.tolist())\n",
    "PD_icpk_shape = misc.bbox_to_shape(PD_icpk_2D_bbox.tolist())\n",
    "\n",
    "\n",
    "pil_img = Image.open(depth_file)\n",
    "Raw_bbox_img = pil_img.copy()\n",
    "\n",
    "draw = ImageDraw.Draw(Raw_bbox_img)\n",
    "#draw.line(GT_shape, (255, 0, 0), 3)      # Red 3D bbox for GT\n",
    "draw.line(PD_raw_shape, (0, 0, 255), 3)  # Blue 3D bbox for OVE6D\n",
    "\n",
    "\n",
    "ICP1_bbox_img = pil_img.copy()\n",
    "draw = ImageDraw.Draw(ICP1_bbox_img)\n",
    "#draw.line(GT_shape, (255, 0, 0), 3)  # Red 3D bbox for GT\n",
    "draw.line(PD_icp1_shape, (0, 255, 0), 3)  # Green 3D bbox for OVE6D with ICP after pose selection\n",
    "\n",
    "\n",
    "ICPK_bbox_img = pil_img.copy()\n",
    "draw = ImageDraw.Draw(ICPK_bbox_img)\n",
    "#draw.line(GT_shape, (255, 0, 0), 3)  # Red 3D bbox for GT\n",
    "draw.line(PD_icpk_shape, (255, 0, 255), 3)  # Cyan 3D bbox for OVE6D with ICP before pose selection\n",
    "\n",
    "\n",
    "##### calculate the pose errors ########\n",
    "#raw_R_err = utils.rotation_error(raw_pose_R, obj_gt_R)\n",
    "#icp1_R_err = utils.rotation_error(icp1_pose_R, obj_gt_R)\n",
    "#icpk_R_err = utils.rotation_error(icpk_pose_R, obj_gt_R)\n",
    "#\n",
    "#raw_t_err = (((raw_pose_t - obj_gt_t)**2).sum())**0.5 * 1000\n",
    "#icp1_t_err = (((icp1_pose_t - obj_gt_t)**2).sum())**0.5 * 1000\n",
    "#icpk_t_err = (((icpk_pose_t - obj_gt_t)**2).sum())**0.5 * 1000\n",
    "#\n",
    "#\n",
    "#raw_add_err = misc.add(R_est=raw_pose_R.numpy(), t_est=raw_pose_t.numpy(), \n",
    "#                        R_gt=obj_gt_R.numpy(), t_gt=obj_gt_t.numpy(), \n",
    "#                        pts=select_obj_pts.numpy())*1000\n",
    "#raw_adi_err = misc.adi(R_est=raw_pose_R.numpy(), t_est=raw_pose_t.numpy(), \n",
    "#                        R_gt=obj_gt_R.numpy(), t_gt=obj_gt_t.numpy(), \n",
    "#                        pts=select_obj_pts.numpy())*1000\n",
    "#\n",
    "#icp1_add_err = misc.add(R_est=icp1_pose_R.numpy(), t_est=icp1_pose_t.numpy(), \n",
    "#                        R_gt=obj_gt_R.numpy(), t_gt=obj_gt_t.numpy(), \n",
    "#                        pts=select_obj_pts.numpy())*1000\n",
    "#icp1_adi_err = misc.adi(R_est=icp1_pose_R.numpy(), t_est=icp1_pose_t.numpy(), \n",
    "#                        R_gt=obj_gt_R.numpy(), t_gt=obj_gt_t.numpy(), \n",
    "#                        pts=select_obj_pts.numpy())*1000\n",
    "#\n",
    "#icpk_add_err = misc.add(R_est=icpk_pose_R.numpy(), t_est=icpk_pose_t.numpy(), \n",
    "#                        R_gt=obj_gt_R.numpy(), t_gt=obj_gt_t.numpy(), \n",
    "#                        pts=select_obj_pts.numpy())*1000\n",
    "#icpk_adi_err = misc.adi(R_est=icpk_pose_R.numpy(), t_est=icpk_pose_t.numpy(), \n",
    "#                        R_gt=obj_gt_R.numpy(), t_gt=obj_gt_t.numpy(), \n",
    "#                        pts=select_obj_pts.numpy())*1000\n",
    "\n",
    "\n",
    "\n",
    "fig, ax = plt.subplots(1,3,figsize=(30, 10))\n",
    "ax[0].imshow(Raw_bbox_img)\n",
    "ax[0].set_title(\"T(0.1d)={:.1f}mm, Raw R: {:.1f}˚, t: {:.1f}mm, add: {:.1f}mm, adi: {:.1f}mm\".format(\n",
    "    obj_diameter * 100, raw_R_err, raw_t_err, raw_add_err, raw_adi_err), fontsize=20)\n",
    "ax[1].imshow(ICP1_bbox_img)\n",
    "ax[1].set_title(\"T={:.1f}mm, ICP1 R: {:.1f}˚, t: {:.1f}mm, add: {:.1f}mm, adi: {:.1f}mm\".format(\n",
    "    obj_diameter * 100, icp1_R_err, icp1_t_err, icp1_add_err, icp1_adi_err), fontsize=20)\n",
    "ax[2].imshow(ICPK_bbox_img)\n",
    "ax[2].set_title(\"T={:.1f}mm, ICPK R: {:.1f}˚, t: {:.1f}mm, add: {:.1f}mm, adi: {:.1f}mm\".format(\n",
    "    obj_diameter * 100, icpk_R_err, icpk_t_err, icpk_add_err, icpk_adi_err), fontsize=20)\n",
    "ax[0].axis(False)\n",
    "ax[1].axis(False)\n",
    "ax[2].axis(False)\n",
    "\n",
    "# print('object diameter: {:.1f}mm, 0.1d:{:.1f}mm'.format(obj_diameter*1000, obj_diameter*100))\n",
    "print('GT(Red): \\t {}, diameter: {:.1f}mm, pose threshold(0.1d): {:.1f}mm'.format(obj_name, obj_diameter*1000, obj_diameter*100))\n",
    "print('Raw(Blue): \\t rot error:{:.1f}˚, tsl_err:{:.1f}mm, add:{:.1f}mm, adi:{:.1f}mm'.format(raw_R_err, raw_t_err, raw_add_err, raw_adi_err))\n",
    "print('ICP1(Green): \\t rot error:{:.1f}˚, tsl_err:{:.1f}mm, add:{:.1f}mm, adi:{:.1f}mm'.format(icp1_R_err, icp1_t_err, icp1_add_err, icp1_adi_err))\n",
    "print('ICPK(Cyan): \\t rot error:{:.1f}˚, tsl_err:{:.1f}mm, add:{:.1f}mm, adi:{:.1f}mm'.format(icpk_R_err, icpk_t_err, icpk_add_err, icpk_adi_err))\n",
    "\n"
   ]
  },
  {
   "cell_type": "code",
   "execution_count": null,
   "id": "dfc8dcbf",
   "metadata": {},
   "outputs": [],
   "source": []
  },
  {
   "cell_type": "code",
   "execution_count": null,
   "id": "539c3886-f9b5-4e51-aa9e-5962ac768d1e",
   "metadata": {},
   "outputs": [],
   "source": []
  }
 ],
 "metadata": {
  "interpreter": {
   "hash": "eb54269f6222b6ab0b3eebeb4bda3d4fe55f11f569665d5647d56bc5c73b90b7"
  },
  "kernelspec": {
   "display_name": "ove6d",
   "language": "python",
   "name": "ove6d"
  },
  "language_info": {
   "codemirror_mode": {
    "name": "ipython",
    "version": 3
   },
   "file_extension": ".py",
   "mimetype": "text/x-python",
   "name": "python",
   "nbconvert_exporter": "python",
   "pygments_lexer": "ipython3",
   "version": "3.8.13"
  }
 },
 "nbformat": 4,
 "nbformat_minor": 5
}
